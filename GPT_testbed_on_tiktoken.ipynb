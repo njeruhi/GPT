{
  "cells": [
    {
      "cell_type": "markdown",
      "metadata": {
        "id": "view-in-github",
        "colab_type": "text"
      },
      "source": [
        "<a href=\"https://colab.research.google.com/github/njeruhi/GPT/blob/main/GPT_testbed_on_tiktoken.ipynb\" target=\"_parent\"><img src=\"https://colab.research.google.com/assets/colab-badge.svg\" alt=\"Open In Colab\"/></a>"
      ]
    },
    {
      "cell_type": "code",
      "execution_count": 1,
      "metadata": {
        "colab": {
          "base_uri": "https://localhost:8080/"
        },
        "id": "ohWC-Tb586Gn",
        "outputId": "16617f79-b210-4a87-ea77-fb19c6ff17f7"
      },
      "outputs": [
        {
          "output_type": "stream",
          "name": "stdout",
          "text": [
            "Requirement already satisfied: tiktoken in /usr/local/lib/python3.10/dist-packages (0.6.0)\n",
            "Requirement already satisfied: regex>=2022.1.18 in /usr/local/lib/python3.10/dist-packages (from tiktoken) (2023.12.25)\n",
            "Requirement already satisfied: requests>=2.26.0 in /usr/local/lib/python3.10/dist-packages (from tiktoken) (2.31.0)\n",
            "Requirement already satisfied: charset-normalizer<4,>=2 in /usr/local/lib/python3.10/dist-packages (from requests>=2.26.0->tiktoken) (3.3.2)\n",
            "Requirement already satisfied: idna<4,>=2.5 in /usr/local/lib/python3.10/dist-packages (from requests>=2.26.0->tiktoken) (3.6)\n",
            "Requirement already satisfied: urllib3<3,>=1.21.1 in /usr/local/lib/python3.10/dist-packages (from requests>=2.26.0->tiktoken) (2.0.7)\n",
            "Requirement already satisfied: certifi>=2017.4.17 in /usr/local/lib/python3.10/dist-packages (from requests>=2.26.0->tiktoken) (2024.2.2)\n"
          ]
        }
      ],
      "source": [
        "!pip install tiktoken"
      ]
    },
    {
      "cell_type": "code",
      "execution_count": 2,
      "metadata": {
        "id": "cMcqIu-o53rF"
      },
      "outputs": [],
      "source": [
        "import torch\n",
        "import torch.nn as nn\n",
        "import numpy as np\n",
        "import pandas as pd\n",
        "from torch.nn import functional as F"
      ]
    },
    {
      "cell_type": "code",
      "execution_count": 3,
      "metadata": {
        "id": "0TKtZDih8Iag"
      },
      "outputs": [],
      "source": [
        "# hyperparameters\n",
        "batch_size = 64 # how many independent sequences will we process in parallel?\n",
        "block_size = 256 # what is the maximum context length for predictions?\n",
        "max_iters = 2500\n",
        "eval_interval = 50\n",
        "learning_rate = 3e-4\n",
        "device = 'cuda'\n",
        "eval_iters = 10\n",
        "n_embd = 384\n",
        "n_head = 6\n",
        "n_layer = 6\n",
        "dropout = 0.2\n",
        "# ------------"
      ]
    },
    {
      "cell_type": "code",
      "execution_count": 4,
      "metadata": {
        "id": "u4aUq4bk8NEn"
      },
      "outputs": [],
      "source": [
        "with open(\"tiny-shakespeare.txt\", 'r') as f:\n",
        "    data = f.read()"
      ]
    },
    {
      "cell_type": "code",
      "execution_count": 5,
      "metadata": {
        "id": "uZuyG-WR8OXy"
      },
      "outputs": [],
      "source": [
        "import tiktoken\n",
        "enc = tiktoken.get_encoding('cl100k_base')\n",
        "assert enc.decode(enc.encode(\"hello world\")) == \"hello world\"\n",
        "\n",
        "# To get the tokeniser corresponding to a specific model in the OpenAI API:\n",
        "enc = tiktoken.encoding_for_model(\"gpt-4\")"
      ]
    },
    {
      "cell_type": "code",
      "execution_count": 6,
      "metadata": {
        "colab": {
          "base_uri": "https://localhost:8080/"
        },
        "id": "T4zr5qUV8OVI",
        "outputId": "e2daab64-d837-4a06-d829-6152c5a162ea"
      },
      "outputs": [
        {
          "output_type": "execute_result",
          "data": {
            "text/plain": [
              "[5451,\n",
              " 47317,\n",
              " 512,\n",
              " 10438,\n",
              " 584,\n",
              " 10570,\n",
              " 904,\n",
              " 4726,\n",
              " 11,\n",
              " 6865,\n",
              " 757,\n",
              " 6604,\n",
              " 382,\n",
              " 2460,\n",
              " 512,\n",
              " 96945,\n",
              " 11,\n",
              " 6604,\n",
              " 382,\n",
              " 5451,\n",
              " 47317,\n",
              " 512,\n",
              " 2675,\n",
              " 527,\n",
              " 682]"
            ]
          },
          "metadata": {},
          "execution_count": 6
        }
      ],
      "source": [
        "dataset = enc.encode(data)\n",
        "dataset[:25]"
      ]
    },
    {
      "cell_type": "code",
      "execution_count": 7,
      "metadata": {
        "colab": {
          "base_uri": "https://localhost:8080/"
        },
        "id": "f7SsVh5C8OS2",
        "outputId": "b2352175-1a26-4087-8414-0c87fb7de322"
      },
      "outputs": [
        {
          "output_type": "stream",
          "name": "stdout",
          "text": [
            "torch.int64 torch.Size([301829])\n",
            "tensor([ 5451, 47317,   512, 10438,   584, 10570,   904,  4726,    11,  6865,\n",
            "          757,  6604,   382,  2460,   512, 96945,    11,  6604,   382,  5451])\n"
          ]
        }
      ],
      "source": [
        "dataset = torch.tensor(dataset, dtype=torch.long)\n",
        "print(dataset.dtype, dataset.shape)\n",
        "print(dataset[:20])"
      ]
    },
    {
      "cell_type": "code",
      "execution_count": 8,
      "metadata": {
        "colab": {
          "base_uri": "https://localhost:8080/"
        },
        "id": "yoJSNynK8OQI",
        "outputId": "78703d0b-3969-4fad-8626-78e5e3c70a0e"
      },
      "outputs": [
        {
          "output_type": "execute_result",
          "data": {
            "text/plain": [
              "301829"
            ]
          },
          "metadata": {},
          "execution_count": 8
        }
      ],
      "source": [
        "vocab_size = len(dataset)\n",
        "vocab_size"
      ]
    },
    {
      "cell_type": "code",
      "execution_count": 9,
      "metadata": {
        "id": "0P1MlTvQ8OLH"
      },
      "outputs": [],
      "source": [
        "n = int(0.9*len(dataset))\n",
        "train_data = dataset[:n]\n",
        "val_data = dataset[n:]"
      ]
    },
    {
      "cell_type": "code",
      "execution_count": 10,
      "metadata": {
        "colab": {
          "base_uri": "https://localhost:8080/"
        },
        "id": "KRfd-4qS8hFm",
        "outputId": "0028360a-9af2-403b-bfc0-923ab503b3a4"
      },
      "outputs": [
        {
          "output_type": "execute_result",
          "data": {
            "text/plain": [
              "tensor([ 5451, 47317,   512, 10438,   584, 10570,   904,  4726,    11])"
            ]
          },
          "metadata": {},
          "execution_count": 10
        }
      ],
      "source": [
        "block_size = 8\n",
        "train_data[:block_size+1]"
      ]
    },
    {
      "cell_type": "code",
      "execution_count": 11,
      "metadata": {
        "id": "09PC-gPQ8jl-"
      },
      "outputs": [],
      "source": [
        "torch.manual_seed(1337)\n",
        "batch_size = 4"
      ]
    },
    {
      "cell_type": "code",
      "execution_count": 12,
      "metadata": {
        "id": "mtTfp7iM8lPu"
      },
      "outputs": [],
      "source": [
        "def get_batch(split):\n",
        "\n",
        "    data = train_data if split == 'train' else val_data\n",
        "    ix = torch.randint(len(data) - block_size, (batch_size, ))\n",
        "    x = torch.stack([data[i:i+block_size] for i in ix])\n",
        "    y = torch.stack([data[i+1:i+block_size+1] for i in ix])\n",
        "    x, y = x.to(device), y.to(device)\n",
        "    return x, y"
      ]
    },
    {
      "cell_type": "code",
      "execution_count": 13,
      "metadata": {
        "id": "EUFSRG5-8lKX"
      },
      "outputs": [],
      "source": [
        "@torch.no_grad()\n",
        "def estimate_loss():\n",
        "    out = {}\n",
        "    model.eval()\n",
        "    for split in ['train', 'val']:\n",
        "        losses = torch.zeros(eval_iters)\n",
        "        for k in range(eval_iters):\n",
        "            X, Y = get_batch(split)\n",
        "            logits, loss = model(X, Y)\n",
        "            losses[k] = loss.item()\n",
        "        out[split] = losses.mean()\n",
        "    model.train()\n",
        "    return out"
      ]
    },
    {
      "cell_type": "code",
      "execution_count": 14,
      "metadata": {
        "id": "E6-bdMPZ8s0e"
      },
      "outputs": [],
      "source": [
        "class Head(nn.Module):\n",
        "    \"\"\" one head of self-attention \"\"\"\n",
        "\n",
        "    def __init__(self, head_size):\n",
        "        super().__init__()\n",
        "        self.key = nn.Linear(n_embd, head_size, bias=False)\n",
        "        self.query = nn.Linear(n_embd, head_size, bias=False)\n",
        "        self.value = nn.Linear(n_embd, head_size, bias=False)\n",
        "        self.register_buffer('tril', torch.tril(torch.ones(block_size, block_size)))\n",
        "\n",
        "        self.dropout = nn.Dropout(dropout)\n",
        "\n",
        "    def forward(self, x):\n",
        "        # input of size (batch, time-step, channels)\n",
        "        # output of size (batch, time-step, head size)\n",
        "        B,T,C = x.shape\n",
        "        k = self.key(x)   # (B,T,hs)\n",
        "        q = self.query(x) # (B,T,hs)\n",
        "        # compute attention scores (\"affinities\")\n",
        "        wei = q @ k.transpose(-2,-1) * k.shape[-1]**-0.5 # (B, T, hs) @ (B, hs, T) -> (B, T, T)\n",
        "        wei = wei.masked_fill(self.tril[:T, :T] == 0, float('-inf')) # (B, T, T)\n",
        "        wei = F.softmax(wei, dim=-1) # (B, T, T)\n",
        "        wei = self.dropout(wei)\n",
        "        # perform the weighted aggregation of the values\n",
        "        v = self.value(x) # (B,T,hs)\n",
        "        out = wei @ v # (B, T, T) @ (B, T, hs) -> (B, T, hs)\n",
        "        return out"
      ]
    },
    {
      "cell_type": "code",
      "execution_count": 15,
      "metadata": {
        "id": "8r8WsvW08u0P"
      },
      "outputs": [],
      "source": [
        "class MultiHeadAttention(nn.Module):\n",
        "    \"\"\" multiple heads of self-attention in parallel \"\"\"\n",
        "\n",
        "    def __init__(self, num_heads, head_size):\n",
        "        super().__init__()\n",
        "        self.heads = nn.ModuleList([Head(head_size) for _ in range(num_heads)])\n",
        "        self.proj = nn.Linear(head_size * num_heads, n_embd)\n",
        "        self.dropout = nn.Dropout(dropout)\n",
        "\n",
        "    def forward(self, x):\n",
        "        out = torch.cat([h(x) for h in self.heads], dim=-1)\n",
        "        out = self.dropout(self.proj(out))\n",
        "        return out"
      ]
    },
    {
      "cell_type": "code",
      "execution_count": 16,
      "metadata": {
        "id": "CAFCSyeq8whW"
      },
      "outputs": [],
      "source": [
        "class FeedFoward(nn.Module):\n",
        "    \"\"\" a simple linear layer followed by a non-linearity \"\"\"\n",
        "\n",
        "    def __init__(self, n_embd):\n",
        "        super().__init__()\n",
        "        self.net = nn.Sequential(\n",
        "            nn.Linear(n_embd, 4 * n_embd),\n",
        "            nn.ReLU(),\n",
        "            nn.Linear(4 * n_embd, n_embd),\n",
        "            nn.Dropout(dropout),\n",
        "        )\n",
        "\n",
        "    def forward(self, x):\n",
        "        return self.net(x)"
      ]
    },
    {
      "cell_type": "code",
      "execution_count": 17,
      "metadata": {
        "id": "c64D51UX8yvQ"
      },
      "outputs": [],
      "source": [
        "class Block(nn.Module):\n",
        "    \"\"\" Transformer block: communication followed by computation \"\"\"\n",
        "\n",
        "    def __init__(self, n_embd, n_head):\n",
        "        # n_embd: embedding dimension, n_head: the number of heads we'd like\n",
        "        super().__init__()\n",
        "        head_size = n_embd // n_head\n",
        "        self.sa = MultiHeadAttention(n_head, head_size)\n",
        "        self.ffwd = FeedFoward(n_embd)\n",
        "        self.ln1 = nn.LayerNorm(n_embd)\n",
        "        self.ln2 = nn.LayerNorm(n_embd)\n",
        "\n",
        "    def forward(self, x):\n",
        "        x = x + self.sa(self.ln1(x))\n",
        "        x = x + self.ffwd(self.ln2(x))\n",
        "        return x"
      ]
    },
    {
      "cell_type": "code",
      "execution_count": 18,
      "metadata": {
        "id": "nNxzzVNu8ysu"
      },
      "outputs": [],
      "source": [
        "class GPTLanguageModel(nn.Module):\n",
        "\n",
        "    def __init__(self):\n",
        "        super().__init__()\n",
        "        # each token directly reads off the logits for the next token from a lookup table\n",
        "        self.token_embedding_table = nn.Embedding(vocab_size, n_embd)\n",
        "        self.position_embedding_table = nn.Embedding(block_size, n_embd)\n",
        "        self.blocks = nn.Sequential(*[Block(n_embd, n_head=n_head) for _ in range(n_layer)])\n",
        "        self.ln_f = nn.LayerNorm(n_embd) # final layer norm\n",
        "        self.lm_head = nn.Linear(n_embd, vocab_size)\n",
        "\n",
        "        # better init, not covered in the original GPT video, but important, will cover in followup video\n",
        "        self.apply(self._init_weights)\n",
        "\n",
        "    def _init_weights(self, module):\n",
        "        if isinstance(module, nn.Linear):\n",
        "            torch.nn.init.normal_(module.weight, mean=0.0, std=0.02)\n",
        "            if module.bias is not None:\n",
        "                torch.nn.init.zeros_(module.bias)\n",
        "        elif isinstance(module, nn.Embedding):\n",
        "            torch.nn.init.normal_(module.weight, mean=0.0, std=0.02)\n",
        "\n",
        "    def forward(self, idx, targets=None):\n",
        "        B, T = idx.shape\n",
        "\n",
        "        # idx and targets are both (B,T) tensor of integers\n",
        "        tok_emb = self.token_embedding_table(idx) # (B,T,C)\n",
        "        pos_emb = self.position_embedding_table(torch.arange(T, device=device)) # (T,C)\n",
        "        x = tok_emb + pos_emb # (B,T,C)\n",
        "        x = self.blocks(x) # (B,T,C)\n",
        "        x = self.ln_f(x) # (B,T,C)\n",
        "        logits = self.lm_head(x) # (B,T,vocab_size)\n",
        "        B,T, C = logits.shape\n",
        "\n",
        "        if targets is None:\n",
        "            loss = None\n",
        "        else:\n",
        "            B, T, C = logits.shape\n",
        "            logits = logits.view(B*T, C)\n",
        "            targets = targets.view(B*T)\n",
        "            loss = F.cross_entropy(logits, targets)\n",
        "\n",
        "        return logits, loss\n",
        "\n",
        "    def generate(self, idx, max_new_tokens):\n",
        "    #For each block within the batch, this method generates the most probable token(s) to come next\n",
        "    #For simple use, pass a batch of only one block to this method in order to simulate \"ChatGPT\" like interaction of \"prompt\" and \"answer\"\n",
        "        # idx is (B, T) array of indices in the current context\n",
        "        idx.to(device)\n",
        "        for _ in range(max_new_tokens):\n",
        "            # crop idx to the last block_size tokens\n",
        "            idx_cond = idx[:, -block_size:]\n",
        "            # get the predictions\n",
        "            logits, loss = self(idx_cond)\n",
        "            # focus only on the last time step\n",
        "            logits = logits[:, -1, :] # becomes (B, C)\n",
        "            # apply softmax to get probabilities\n",
        "            probs = F.softmax(logits, dim=-1) # (B, C)\n",
        "            # sample from the distribution\n",
        "            idx_next = torch.multinomial(probs, num_samples=1) # (B, 1)\n",
        "            # append sampled index to the running sequence\n",
        "            idx = torch.cat((idx, idx_next), dim=1) # (B, T+1)\n",
        "        return idx\n"
      ]
    },
    {
      "cell_type": "code",
      "execution_count": 19,
      "metadata": {
        "colab": {
          "base_uri": "https://localhost:8080/"
        },
        "id": "viMuqbYI83QW",
        "outputId": "f86063e1-54b7-4978-dd5c-8d6587c519e7"
      },
      "outputs": [
        {
          "output_type": "stream",
          "name": "stdout",
          "text": [
            "Training is using cuda\n",
            "Model parameter device: cuda:0\n",
            "242.750213 M parameters\n",
            "step 0: train loss 12.6466, val loss 12.6703\n",
            "step 50: train loss 8.6202, val loss 9.3712\n",
            "step 100: train loss 8.0111, val loss 8.5212\n",
            "step 150: train loss 7.7599, val loss 8.4041\n",
            "step 200: train loss 7.7320, val loss 7.8145\n",
            "step 250: train loss 7.3126, val loss 7.9679\n",
            "step 300: train loss 7.4016, val loss 7.8457\n",
            "step 350: train loss 7.1934, val loss 7.4342\n",
            "step 400: train loss 7.6296, val loss 7.1122\n",
            "step 450: train loss 7.7567, val loss 7.6546\n",
            "step 500: train loss 7.2040, val loss 7.5950\n",
            "step 550: train loss 7.3109, val loss 7.5415\n",
            "step 600: train loss 7.1057, val loss 7.6542\n",
            "step 650: train loss 7.3290, val loss 7.3010\n",
            "step 700: train loss 6.5189, val loss 7.2354\n",
            "step 750: train loss 6.9842, val loss 7.2467\n",
            "step 800: train loss 6.5065, val loss 7.0065\n",
            "step 850: train loss 6.9567, val loss 7.2212\n",
            "step 900: train loss 6.5943, val loss 6.8981\n",
            "step 950: train loss 6.3751, val loss 6.8007\n",
            "step 1000: train loss 6.3125, val loss 6.8905\n",
            "step 1050: train loss 6.2452, val loss 7.1404\n",
            "step 1100: train loss 6.5176, val loss 6.7917\n",
            "step 1150: train loss 6.1862, val loss 6.7855\n",
            "step 1200: train loss 6.4708, val loss 6.9067\n",
            "step 1250: train loss 6.5165, val loss 7.2077\n",
            "step 1300: train loss 6.0379, val loss 6.8609\n",
            "step 1350: train loss 6.2119, val loss 6.6604\n",
            "step 1400: train loss 6.1562, val loss 7.0185\n",
            "step 1450: train loss 5.7380, val loss 6.7136\n",
            "step 1500: train loss 5.8681, val loss 6.9010\n",
            "step 1550: train loss 6.1046, val loss 6.0383\n",
            "step 1600: train loss 6.7120, val loss 6.8700\n",
            "step 1650: train loss 6.1009, val loss 6.9344\n",
            "step 1700: train loss 6.4618, val loss 6.8546\n",
            "step 1750: train loss 6.2570, val loss 6.5632\n",
            "step 1800: train loss 6.4985, val loss 6.0530\n",
            "step 1850: train loss 5.9395, val loss 7.2933\n",
            "step 1900: train loss 5.7966, val loss 6.3431\n",
            "step 1950: train loss 6.1583, val loss 6.4921\n",
            "step 2000: train loss 5.7897, val loss 7.2805\n",
            "step 2050: train loss 6.4262, val loss 6.7388\n",
            "step 2100: train loss 6.3461, val loss 6.6470\n",
            "step 2150: train loss 5.9036, val loss 6.4997\n",
            "step 2200: train loss 5.8694, val loss 6.9633\n",
            "step 2250: train loss 5.8228, val loss 6.3008\n",
            "step 2300: train loss 5.7698, val loss 6.7889\n",
            "step 2350: train loss 6.3100, val loss 6.9135\n",
            "step 2400: train loss 5.7141, val loss 6.8663\n",
            "step 2450: train loss 6.1340, val loss 6.6595\n",
            "step 2499: train loss 6.0238, val loss 6.1510\n"
          ]
        }
      ],
      "source": [
        "model = GPTLanguageModel()\n",
        "m = model.to(device)\n",
        "print(\"Training is using \" + device)\n",
        "print(f\"Model parameter device: {next(model.parameters()).device}\")\n",
        "# print the number of parameters in the model\n",
        "print(sum(p.numel() for p in m.parameters())/1e6, 'M parameters')\n",
        "\n",
        "# create a PyTorch optimizer\n",
        "optimizer = torch.optim.AdamW(model.parameters(), lr=learning_rate)\n",
        "\n",
        "for iter in range(max_iters):\n",
        "\n",
        "    # every once in a while evaluate the loss on train and val sets\n",
        "    if iter % eval_interval == 0 or iter == max_iters - 1:\n",
        "        losses = estimate_loss()\n",
        "        print(f\"step {iter}: train loss {losses['train']:.4f}, val loss {losses['val']:.4f}\")\n",
        "\n",
        "    # sample a batch of data\n",
        "    xb, yb = get_batch('train')\n",
        "\n",
        "    # evaluate the loss\n",
        "    logits, loss = model(xb, yb)\n",
        "    optimizer.zero_grad(set_to_none=True)\n",
        "    loss.backward()\n",
        "    optimizer.step()\n"
      ]
    },
    {
      "cell_type": "code",
      "source": [
        "# generate from the model\n",
        "context = torch.zeros((1, 1), dtype=torch.long, device=device)"
      ],
      "metadata": {
        "id": "ZmEYfqkrbW7p"
      },
      "execution_count": 20,
      "outputs": []
    },
    {
      "cell_type": "code",
      "source": [
        "pred_tokens=m.generate(context, max_new_tokens=50)[0]"
      ],
      "metadata": {
        "id": "UDGvAvQzd4By"
      },
      "execution_count": 21,
      "outputs": []
    },
    {
      "cell_type": "code",
      "source": [
        "encoded_tokens = pred_tokens.tolist()\n",
        "encoded_tokens\n",
        ""
      ],
      "metadata": {
        "id": "zv1rKEfglfyK",
        "outputId": "893e1145-2a24-4b81-8d44-78aabbcd3f0a",
        "colab": {
          "base_uri": "https://localhost:8080/"
        }
      },
      "execution_count": 23,
      "outputs": [
        {
          "output_type": "execute_result",
          "data": {
            "text/plain": [
              "[0,\n",
              " 58909,\n",
              " 1203,\n",
              " 1427,\n",
              " 4265,\n",
              " 369,\n",
              " 26236,\n",
              " 35482,\n",
              " 1983,\n",
              " 121344,\n",
              " 25,\n",
              " 1218,\n",
              " 79,\n",
              " 10443,\n",
              " 1600,\n",
              " 596,\n",
              " 2800,\n",
              " 449,\n",
              " 5389,\n",
              " 512,\n",
              " 74209,\n",
              " 11,\n",
              " 358,\n",
              " 25229,\n",
              " 1781,\n",
              " 813,\n",
              " 3663,\n",
              " 7220,\n",
              " 28534,\n",
              " 2450,\n",
              " 2586,\n",
              " 26236,\n",
              " 3663,\n",
              " 345,\n",
              " 51,\n",
              " 13,\n",
              " 7477,\n",
              " 315,\n",
              " 263,\n",
              " 7020,\n",
              " 11,\n",
              " 345,\n",
              " 8140,\n",
              " 2908,\n",
              " 11,\n",
              " 21846,\n",
              " 3472,\n",
              " 2092,\n",
              " 48969,\n",
              " 856,\n",
              " 54614]"
            ]
          },
          "metadata": {},
          "execution_count": 23
        }
      ]
    }
  ],
  "metadata": {
    "accelerator": "GPU",
    "colab": {
      "gpuType": "T4",
      "provenance": [],
      "authorship_tag": "ABX9TyNQWFzliLzDWxGXMslna9Ci",
      "include_colab_link": true
    },
    "kernelspec": {
      "display_name": "Python 3",
      "name": "python3"
    },
    "language_info": {
      "name": "python"
    }
  },
  "nbformat": 4,
  "nbformat_minor": 0
}